{
 "cells": [
  {
   "cell_type": "markdown",
   "id": "84fefaa5",
   "metadata": {},
   "source": [
    "1. In the below elements which of them are values or an expression? eg:- values can be integer or string and expressions will be mathematical operators.\n",
    "Ans: \\\n",
    "\\* : Expression/Mathematical Operator <br>\n",
    "'hello' : String <br>\n",
    "-87.8 : Integer/Float <br>\n",
    "\\- : Expression/Mathematical Operator <br>\n",
    "/ : Expression/Mathematical Operator <br>\n",
    "\\+ : Expression/Mathematical Operator <br>\n",
    "6 : Integer"
   ]
  },
  {
   "cell_type": "markdown",
   "id": "17d45699",
   "metadata": {},
   "source": [
    "2. What is the difference between string and variable?"
   ]
  },
  {
   "cell_type": "markdown",
   "id": "9cf4d343",
   "metadata": {},
   "source": [
    "Ans: String is a datatype that is usually enclosed in \"\", it can be a sequence of text or numbers as well. Where as Variable is a placeholder or a container that can store the data."
   ]
  },
  {
   "cell_type": "markdown",
   "id": "08207a6a",
   "metadata": {},
   "source": [
    "3. Describe three different data types."
   ]
  },
  {
   "cell_type": "markdown",
   "id": "ba43faf5",
   "metadata": {},
   "source": [
    "Ans: \n",
    "1. List - The data is enclosed in [] we can store either string or numbers. It is mutable <br>\n",
    "2. Tuple - The data is enclosed in () we can store either string or numbers. It is immutable <br>\n",
    "3. Dictionary - The data is stored in the form of keys and values \n",
    "Ex: {key: values}\n",
    "keys in dicitonary should be unique and immutable whereas there is no such condition for values"
   ]
  },
  {
   "cell_type": "markdown",
   "id": "0834bfe8",
   "metadata": {},
   "source": [
    "4. What is an expression made up of? What do all expressions do?"
   ]
  },
  {
   "cell_type": "markdown",
   "id": "18257693",
   "metadata": {},
   "source": [
    "Ans: An expression is a combination of numbers and mathematical operators <br>\n",
    "Ex: 3+1*6/2"
   ]
  },
  {
   "cell_type": "markdown",
   "id": "ef4a1ee2",
   "metadata": {},
   "source": [
    "5. This assignment statements, like spam = 10. What is the difference between an expression and a statement?"
   ]
  },
  {
   "cell_type": "markdown",
   "id": "69e5ec45",
   "metadata": {},
   "source": [
    "Ans: spam=10 is a statement which is excecuted by python and results in storing of 10 in a variable called \"spam\". As mentioned in the 4th assignment answer it just executes and returns a value, whereas the statement just does an action in this specified case storing the number in a variable."
   ]
  },
  {
   "cell_type": "markdown",
   "id": "83b55a58",
   "metadata": {},
   "source": [
    "6. After running the following code, what does the variable bacon contain?\n",
    "bacon = 22\n",
    "bacon + 1\n"
   ]
  },
  {
   "cell_type": "code",
   "execution_count": 1,
   "id": "b71065a5",
   "metadata": {},
   "outputs": [
    {
     "data": {
      "text/plain": [
       "22"
      ]
     },
     "execution_count": 1,
     "metadata": {},
     "output_type": "execute_result"
    }
   ],
   "source": [
    "bacon =22\n",
    "bacon"
   ]
  },
  {
   "cell_type": "code",
   "execution_count": 15,
   "id": "e6790eb0",
   "metadata": {},
   "outputs": [
    {
     "data": {
      "text/plain": [
       "23"
      ]
     },
     "execution_count": 15,
     "metadata": {},
     "output_type": "execute_result"
    }
   ],
   "source": [
    "bacon+1\n",
    "# here we are adding 1 to the bacon value, the output is instaneous i.e, it doesn't effect the bacon value because the new value is not stored in a variable"
   ]
  },
  {
   "cell_type": "markdown",
   "id": "ae4832a9",
   "metadata": {},
   "source": [
    "7. What should the values of the following two terms be?\n",
    "'spam' + 'spamspam'\n",
    "'spam' * 3\n"
   ]
  },
  {
   "cell_type": "code",
   "execution_count": 3,
   "id": "952d9fc2",
   "metadata": {},
   "outputs": [
    {
     "data": {
      "text/plain": [
       "'spamspamspam'"
      ]
     },
     "execution_count": 3,
     "metadata": {},
     "output_type": "execute_result"
    }
   ],
   "source": [
    "'spam' + 'spamspam' \n",
    "#concatinating the string"
   ]
  },
  {
   "cell_type": "code",
   "execution_count": 5,
   "id": "b8af7513",
   "metadata": {},
   "outputs": [
    {
     "data": {
      "text/plain": [
       "'spamspamspam'"
      ]
     },
     "execution_count": 5,
     "metadata": {},
     "output_type": "execute_result"
    }
   ],
   "source": [
    "'spam' * 3\n",
    "#spam string is multipied 3 times"
   ]
  },
  {
   "cell_type": "markdown",
   "id": "52d66476",
   "metadata": {},
   "source": [
    "8. Why is eggs a valid variable name while 100 is invalid?"
   ]
  },
  {
   "cell_type": "markdown",
   "id": "5b94f230",
   "metadata": {},
   "source": [
    "The condtions for a using valid variable name are as follows: <br>\n",
    "Variable name cannot start with a number.<br>\n",
    "It must start with a letter or the underscore character.<br>\n",
    "The keywords cannot be used naming the variable.<br>\n",
    "It can only contain alpha-numeric characters and underscores<br>\n",
    "Variable names are case-sensitive<br>\n"
   ]
  },
  {
   "cell_type": "markdown",
   "id": "994f8bd3",
   "metadata": {},
   "source": [
    "9. What three functions can be used to get the integer, floating-point number, or string version of a value?"
   ]
  },
  {
   "cell_type": "markdown",
   "id": "4b530aed",
   "metadata": {},
   "source": [
    "Ans:\n",
    "1. int() <br>\n",
    "2. float() <br>\n",
    "3. str() <br>"
   ]
  },
  {
   "cell_type": "markdown",
   "id": "a2733831",
   "metadata": {},
   "source": [
    "10. Why does this expression cause an error? How can you fix it?\n",
    "'I have eaten ' + 99 + ' burritos.'\n"
   ]
  },
  {
   "cell_type": "code",
   "execution_count": 11,
   "id": "d2f8838f",
   "metadata": {
    "scrolled": true
   },
   "outputs": [
    {
     "ename": "TypeError",
     "evalue": "can only concatenate str (not \"int\") to str",
     "output_type": "error",
     "traceback": [
      "\u001b[1;31m---------------------------------------------------------------------------\u001b[0m",
      "\u001b[1;31mTypeError\u001b[0m                                 Traceback (most recent call last)",
      "Cell \u001b[1;32mIn[11], line 1\u001b[0m\n\u001b[1;32m----> 1\u001b[0m \u001b[38;5;124m'\u001b[39m\u001b[38;5;124mI have eaten \u001b[39m\u001b[38;5;124m'\u001b[39m \u001b[38;5;241m+\u001b[39m \u001b[38;5;241m99\u001b[39m \u001b[38;5;241m+\u001b[39m \u001b[38;5;124m'\u001b[39m\u001b[38;5;124m burritos.\u001b[39m\u001b[38;5;124m'\u001b[39m\n",
      "\u001b[1;31mTypeError\u001b[0m: can only concatenate str (not \"int\") to str"
     ]
    }
   ],
   "source": [
    "'I have eaten ' + 99 + ' burritos.'"
   ]
  },
  {
   "cell_type": "code",
   "execution_count": 13,
   "id": "f7098e90",
   "metadata": {},
   "outputs": [
    {
     "data": {
      "text/plain": [
       "'I have eaten 99 burritos.'"
      ]
     },
     "execution_count": 13,
     "metadata": {},
     "output_type": "execute_result"
    }
   ],
   "source": [
    "# we can concat only strings\n",
    "'I have eaten ' + '99' + ' burritos.'"
   ]
  },
  {
   "cell_type": "code",
   "execution_count": 14,
   "id": "17276091",
   "metadata": {},
   "outputs": [
    {
     "data": {
      "text/plain": [
       "'I have eaten 99 burritos.'"
      ]
     },
     "execution_count": 14,
     "metadata": {},
     "output_type": "execute_result"
    }
   ],
   "source": [
    "'I have eaten ' + str(99) + ' burritos.'"
   ]
  }
 ],
 "metadata": {
  "kernelspec": {
   "display_name": "Python 3 (ipykernel)",
   "language": "python",
   "name": "python3"
  },
  "language_info": {
   "codemirror_mode": {
    "name": "ipython",
    "version": 3
   },
   "file_extension": ".py",
   "mimetype": "text/x-python",
   "name": "python",
   "nbconvert_exporter": "python",
   "pygments_lexer": "ipython3",
   "version": "3.11.3"
  }
 },
 "nbformat": 4,
 "nbformat_minor": 5
}
