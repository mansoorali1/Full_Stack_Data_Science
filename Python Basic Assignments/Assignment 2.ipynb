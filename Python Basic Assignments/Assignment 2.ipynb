{
 "cells": [
  {
   "cell_type": "markdown",
   "id": "39a303bf",
   "metadata": {},
   "source": [
    "1.What are the two values of the Boolean data type? How do you write them? <br>\n",
    "Ans: True and False are the two values of Boolean data type"
   ]
  },
  {
   "cell_type": "markdown",
   "id": "e72e57cb",
   "metadata": {},
   "source": [
    "2. What are the three different types of Boolean operators?<br>\n",
    "Ans: and , or, not\n"
   ]
  },
  {
   "cell_type": "markdown",
   "id": "0bb1fc5f",
   "metadata": {},
   "source": [
    "3. Make a list of each Boolean operator's truth tables (i.e. every possible combination of Boolean values for the operator and what it evaluate )."
   ]
  },
  {
   "cell_type": "markdown",
   "id": "c83bed4f",
   "metadata": {},
   "source": [
    "OR <br>\n",
    "True or True = True <br>\n",
    "True or False = True<br>\n",
    "False or True = True<br>\n",
    "False or False = False<br>\n",
    "\n",
    "AND<br>\n",
    "True and True = True<br>\n",
    "True and False = False<br>\n",
    "False and True = False<br>\n",
    "False and False = False<br>\n",
    "\n",
    "NOT<br>\n",
    "not True = False<br>\n",
    "not False = True"
   ]
  },
  {
   "cell_type": "markdown",
   "id": "1d0dba00",
   "metadata": {},
   "source": [
    "4. What are the values of the following expressions?"
   ]
  },
  {
   "cell_type": "code",
   "execution_count": 19,
   "id": "11c1611c",
   "metadata": {},
   "outputs": [
    {
     "name": "stdout",
     "output_type": "stream",
     "text": [
      "False\n",
      "False\n",
      "True\n",
      "False\n",
      "False\n",
      "True\n"
     ]
    }
   ],
   "source": [
    "print((5 > 4) and (3 == 5) )\n",
    "print(not (5 > 4) )\n",
    "print((5 > 4) or (3 == 5))\n",
    "print(not ((5 > 4) or (3 == 5)))\n",
    "print((True and True) and (True == False))\n",
    "print((not False) or (not True))"
   ]
  },
  {
   "cell_type": "markdown",
   "id": "b094a3b1",
   "metadata": {},
   "source": [
    "5. What are the six comparison operators?<br>\n",
    "Ans: < ,<= ,>,>=,==,!="
   ]
  },
  {
   "cell_type": "markdown",
   "id": "5bdf1787",
   "metadata": {},
   "source": [
    "6. How do you tell the difference between the equal to and assignment operators?Describe a condition and when you would use one.<br>\n",
    "Ans:<br>\n",
    "Equal to is used for checking whether the value is same or not<br>\n",
    "Ex: if a==2  here we are checking if a value is equal to 2 or not<br>\n",
    "Assignment operator is used to store the data in a variable<br>\n",
    "Ex: a=2 here 2 value is stored in variable a<br>\n"
   ]
  },
  {
   "cell_type": "markdown",
   "id": "bc08f59d",
   "metadata": {},
   "source": [
    "7. Identify the three blocks in this code:\n",
    "spam = 0\n",
    "if spam == 10:\n",
    "print('eggs')\n",
    "if spam > 5:\n",
    "print('bacon')\n",
    "else:\n",
    "print('ham')\n",
    "print('spam')\n",
    "print('spam')"
   ]
  },
  {
   "cell_type": "code",
   "execution_count": 16,
   "id": "1445305c",
   "metadata": {},
   "outputs": [
    {
     "name": "stdout",
     "output_type": "stream",
     "text": [
      "ham\n",
      "spam\n",
      "spam\n"
     ]
    }
   ],
   "source": [
    "spam = 0\n",
    "if spam == 10:\n",
    "    print('eggs')\n",
    "if spam > 5:\n",
    "    print('bacon')\n",
    "else:\n",
    "    print('ham')\n",
    "print('spam')\n",
    "print('spam')"
   ]
  },
  {
   "cell_type": "markdown",
   "id": "7dfdbf5f",
   "metadata": {},
   "source": [
    "8. Write code that prints Hello if 1 is stored in spam, prints Howdy if 2 is stored in spam, and prints Greetings! if anything else is stored in spam."
   ]
  },
  {
   "cell_type": "code",
   "execution_count": 17,
   "id": "30aa1c7e",
   "metadata": {},
   "outputs": [
    {
     "name": "stdout",
     "output_type": "stream",
     "text": [
      "Greetings!\n"
     ]
    }
   ],
   "source": [
    "if spam==1:\n",
    "    print('Hello')\n",
    "elif spam==2:\n",
    "    print('Howdy')\n",
    "else:\n",
    "    print('Greetings!')"
   ]
  },
  {
   "cell_type": "markdown",
   "id": "bcd05f7a",
   "metadata": {},
   "source": [
    "9.If your programme is stuck in an endless loop, what keys you’ll press?<br>\n",
    "Ans: Ctr+C or hitting I I would interrupt the kernel<br>"
   ]
  },
  {
   "cell_type": "markdown",
   "id": "ff9b53b8",
   "metadata": {},
   "source": [
    "10. How can you tell the difference between break and continue?<br>\n",
    "Ans:<br>\n",
    "if a Break statement is encountered in the sequence of execution then it breaks the operation and comes out of the entire loop.\n",
    "If a Continue statement is encountered in the sequence of execution then it skips the execution of further statements and goes into the next iteration of the loop."
   ]
  },
  {
   "cell_type": "markdown",
   "id": "967c8ede",
   "metadata": {},
   "source": [
    "11. In a for loop, what is the difference between range(10), range(0, 10), and range(0, 10, 1)? <br>\n",
    "Ans:<br>\n",
    "All the three give the same output but the way in which it is defined is different <br>\n",
    "range(10) - start is not given so by default it will start from 0 and reaches till 9 <br>\n",
    "range(0, 10) - start number is given and values will continue till 9 <br>\n",
    "range(0, 10, 1) - values start from 0 to 9 with a step increase of 1<br>\n"
   ]
  },
  {
   "cell_type": "markdown",
   "id": "dba1e60c",
   "metadata": {},
   "source": [
    "12. Write a short program that prints the numbers 1 to 10 using a for loop. Then write an equivalent program that prints the numbers 1 to 10 using a while loop."
   ]
  },
  {
   "cell_type": "code",
   "execution_count": 14,
   "id": "ab33e44b",
   "metadata": {},
   "outputs": [
    {
     "name": "stdout",
     "output_type": "stream",
     "text": [
      "1\n",
      "2\n",
      "3\n",
      "4\n",
      "5\n",
      "6\n",
      "7\n",
      "8\n",
      "9\n",
      "10\n"
     ]
    }
   ],
   "source": [
    "n=10\n",
    "for i in range(1,n+1):\n",
    "    print(i)"
   ]
  },
  {
   "cell_type": "code",
   "execution_count": 15,
   "id": "0fb3f202",
   "metadata": {},
   "outputs": [
    {
     "name": "stdout",
     "output_type": "stream",
     "text": [
      "1\n",
      "2\n",
      "3\n",
      "4\n",
      "5\n",
      "6\n",
      "7\n",
      "8\n",
      "9\n",
      "10\n"
     ]
    }
   ],
   "source": [
    "n=10\n",
    "i=1\n",
    "while i<=n:\n",
    "    print(i)\n",
    "    i+=1"
   ]
  },
  {
   "cell_type": "markdown",
   "id": "88861af2",
   "metadata": {},
   "source": [
    "13. If you had a function named bacon() inside a module named spam, how would you call it after importing spam? <br>\n",
    "Ans: spam.bacon()"
   ]
  }
 ],
 "metadata": {
  "kernelspec": {
   "display_name": "Python 3 (ipykernel)",
   "language": "python",
   "name": "python3"
  },
  "language_info": {
   "codemirror_mode": {
    "name": "ipython",
    "version": 3
   },
   "file_extension": ".py",
   "mimetype": "text/x-python",
   "name": "python",
   "nbconvert_exporter": "python",
   "pygments_lexer": "ipython3",
   "version": "3.11.3"
  }
 },
 "nbformat": 4,
 "nbformat_minor": 5
}
